{
 "cells": [
  {
   "cell_type": "markdown",
   "metadata": {},
   "source": [
    "# Object Oriented Programming 2 - examples and APIs\n"
   ]
  },
  {
   "cell_type": "markdown",
   "metadata": {},
   "source": [
    "## Tasks Today:\n",
    "\n",
    "   \n",
    "\n",
    "1) <b>Shopping Cart Example</b> <br>\n",
    "2) <b>Requests and the pokemon API </b> <br>\n",
    " "
   ]
  },
  {
   "cell_type": "markdown",
   "metadata": {},
   "source": [
    "# Goal \n",
    "### build a shopping cart program with prices and quantities using objects and a dictionary"
   ]
  },
  {
   "cell_type": "code",
   "execution_count": 19,
   "metadata": {},
   "outputs": [
    {
     "ename": "IndentationError",
     "evalue": "unindent does not match any outer indentation level (<tokenize>, line 27)",
     "output_type": "error",
     "traceback": [
      "\u001b[1;36m  File \u001b[1;32m<tokenize>:27\u001b[1;36m\u001b[0m\n\u001b[1;33m    print(f\"{quantity} {discard}(s) has/have been removed from your cart\")\u001b[0m\n\u001b[1;37m    ^\u001b[0m\n\u001b[1;31mIndentationError\u001b[0m\u001b[1;31m:\u001b[0m unindent does not match any outer indentation level\n"
     ]
    }
   ],
   "source": [
    "from IPython.display import clear_output as clear\n",
    "\n",
    "class Cart():\n",
    "    def __init__(self, cart):\n",
    "        self.items = {}\n",
    "        \n",
    "    #add items to our cart\n",
    "    def add_item(self):\n",
    "        clear()\n",
    "        new_item = input(\"What would you like to add? \")\n",
    "        quantity = int(input(f\" How many of {new_item}(s) would you like to add? \"))\n",
    "        if new_item not in self.cart:\n",
    "            self.cart[new_item] = quantity\n",
    "        else:\n",
    "            self.cart[new_item] += quantity\n",
    "            \n",
    "        print(f\"{quantity} {new_item}(s)has/have been added to your cart. \")\n",
    "        \n",
    "    def remove_item(Self):\n",
    "            clear()\n",
    "            discard = input(\"what would you like to remove?\")\n",
    "            quantity = int(input(\"How many would you like to remove?\"))\n",
    "            try:\n",
    "                self.cart[discard] -= qunatity\n",
    "                if self.cart[discard] <= 0:\n",
    "                    del self.items[discard]\n",
    "        print(f\"{quantity} {discard}(s) has/have been removed from your cart\")\n",
    "    except:\n",
    "            print(f\"{discard} is not in your cart, please try again! \")\n",
    "             self.show()\n",
    "                    \n",
    "                  \n",
    "    def show(self):\n",
    "        print(\"Your cart has the following items: \")\n",
    "    for item quantity in self.cart.items():\n",
    "        print(f\"{item} | quantity: {quantity}\")\n",
    "            \n",
    "            \n",
    "    def checkout(self):\n",
    "                clear()\n",
    "    if not self.cart:\n",
    "        print(\"please buy something before checkout!\")\n",
    "                    \n",
    "    else:\n",
    "        print(\"Thanks for shopping at Aldi. please try the strawberry Belle vie\")\n",
    "                    self.show()\n",
    "            \n",
    "#control flow -runs the program\n",
    "class Main:\n",
    "    def show_instructions(self)\n",
    "    print(\"\"\"\n",
    "    Welcome to Aldi , we are the best , and have great butter cuos. Try our blackberry Belle vue.\n",
    "    options:\n",
    "    [1] Show Current CArt\n",
    "    [2] Add item\n",
    "    [3] Remove\n",
    "    [4] checkout\n",
    "    [5] Show Instructions\n",
    "    \"\"\")\n",
    "    \n",
    "    def run(self):\n",
    "        self.show_instructions()\n",
    "        my_cart = cart()\n",
    "    \n",
    "        while True:\n",
    "            choice = input(\"what would you like to do?\")\n",
    "        if choice == \"1\"\n",
    "                if my _cart.cart == {}\n",
    "                    print(\"Your cart is empty, please add something to view.\")\n",
    "                else:\n",
    "                    my_cart.show()\n",
    "        elif choice ==\"2\":\n",
    "            my_cart.add_item()\n",
    "            \n",
    "        elif choice ==\"3\":\n",
    "            if my_cart.cart == {}:\n",
    "                print(\"your cart is empty, you can't remove anything.\")\n",
    "                else:\n",
    "                    my_cart.remove_item()\n",
    "                    \n",
    "            elif choice == \"4\":\n",
    "                my_cart.checkout()\n",
    "                break\n",
    "                \n",
    "            elif choice == \"5\":\n",
    "                Main.show_instructions()\n",
    "            \n",
    "            else:\n",
    "                print(\"Invalid input, please try again!\")"
   ]
  },
  {
   "cell_type": "raw",
   "metadata": {},
   "source": [
    "run_class =Main()\n",
    "run_class.run()"
   ]
  },
  {
   "cell_type": "markdown",
   "metadata": {},
   "source": [
    "# working with APis"
   ]
  },
  {
   "cell_type": "markdown",
   "metadata": {},
   "source": [
    "<p> What exactly is an API? <br> <br>\n",
    "API is the acronym for Application Programming Interface, which is a software intermediary that allows two applications to talk to each other. Each time you use an app like Facebook, send an instant message, or check the weather on your phone, you're using an API. </p>"
   ]
  },
  {
   "cell_type": "markdown",
   "metadata": {},
   "source": [
    "### The Poke API  allows you to retreive a pokemon's information from PokeAPI https://pokeapi.co/\n",
    "\n"
   ]
  },
  {
   "cell_type": "code",
   "execution_count": 10,
   "metadata": {},
   "outputs": [
    {
     "name": "stdout",
     "output_type": "stream",
     "text": [
      "Collecting requests\n",
      "  Downloading requests-2.31.0-py3-none-any.whl (62 kB)\n",
      "                                              0.0/62.6 kB ? eta -:--:--\n",
      "     -------------------                      30.7/62.6 kB 1.4 MB/s eta 0:00:01\n",
      "     ---------------------------------------- 62.6/62.6 kB 1.1 MB/s eta 0:00:00\n",
      "Collecting charset-normalizer<4,>=2 (from requests)\n",
      "  Downloading charset_normalizer-3.1.0-cp311-cp311-win_amd64.whl (96 kB)\n",
      "                                              0.0/96.7 kB ? eta -:--:--\n",
      "     ---------------------------------------- 96.7/96.7 kB 2.8 MB/s eta 0:00:00\n",
      "Requirement already satisfied: idna<4,>=2.5 in c:\\users\\baljit singh\\appdata\\local\\programs\\python\\python311\\lib\\site-packages (from requests) (3.4)\n",
      "Collecting urllib3<3,>=1.21.1 (from requests)\n",
      "  Downloading urllib3-2.0.3-py3-none-any.whl (123 kB)\n",
      "                                              0.0/123.6 kB ? eta -:--:--\n",
      "     -------------------------------------- 123.6/123.6 kB 7.1 MB/s eta 0:00:00\n",
      "Collecting certifi>=2017.4.17 (from requests)\n",
      "  Downloading certifi-2023.5.7-py3-none-any.whl (156 kB)\n",
      "                                              0.0/157.0 kB ? eta -:--:--\n",
      "     -------------------------------------- 157.0/157.0 kB 4.6 MB/s eta 0:00:00\n",
      "Installing collected packages: urllib3, charset-normalizer, certifi, requests\n",
      "Successfully installed certifi-2023.5.7 charset-normalizer-3.1.0 requests-2.31.0 urllib3-2.0.3\n",
      "Note: you may need to restart the kernel to use updated packages.\n"
     ]
    }
   ],
   "source": [
    "pip install requests\n"
   ]
  },
  {
   "cell_type": "code",
   "execution_count": 30,
   "metadata": {},
   "outputs": [
    {
     "name": "stdout",
     "output_type": "stream",
     "text": [
      "dict_keys(['abilities', 'base_experience', 'forms', 'game_indices', 'height', 'held_items', 'id', 'is_default', 'location_area_encounters', 'moves', 'name', 'order', 'past_types', 'species', 'sprites', 'stats', 'types', 'weight'])\n",
      "101\n"
     ]
    }
   ],
   "source": [
    "# making an API call\n",
    "import requests\n",
    "r = requests.get(\"https://pokeapi.co/api/v2/pokemon/ditto\")\n",
    "    \n",
    "if r.status_code ==200:\n",
    "    data = r.json()\n",
    "print(data.keys())\n",
    "\n",
    "print(data['base_experience'])\n"
   ]
  },
  {
   "cell_type": "code",
   "execution_count": 33,
   "metadata": {},
   "outputs": [
    {
     "name": "stdout",
     "output_type": "stream",
     "text": [
      "3\n",
      "40\n"
     ]
    }
   ],
   "source": [
    "print(data['height'])\n",
    "print(data['weight'])"
   ]
  },
  {
   "cell_type": "code",
   "execution_count": 55,
   "metadata": {},
   "outputs": [
    {
     "name": "stdout",
     "output_type": "stream",
     "text": [
      "red\n",
      "blue\n",
      "yellow\n"
     ]
    }
   ],
   "source": [
    "for game in data ['game_indices']:\n",
    "    \n",
    "    if game[\"game_index\"]== 76:\n",
    "       print(game['version']['name'])\n",
    "        \n"
   ]
  },
  {
   "cell_type": "markdown",
   "metadata": {},
   "source": [
    "### Display a Pokemon's name, weight, abilities, and types"
   ]
  },
  {
   "cell_type": "code",
   "execution_count": 81,
   "metadata": {},
   "outputs": [
    {
     "name": "stdout",
     "output_type": "stream",
     "text": [
      "Ditto\n",
      "40 kg\n",
      "['normal']\n",
      "['limber', 'imposter']\n"
     ]
    }
   ],
   "source": [
    "#get the name\n",
    "name = data['name']\n",
    "print(name.title())\n",
    "\n",
    "#get the weight\n",
    "weight = data[\"weight\"]\n",
    "print(weight, \"kg\")\n",
    "\n",
    "#get types\n",
    "types = [type_['type']['name']for type_ in data['types']]\n",
    "print(types)\n",
    "\n",
    "#get abilities\n",
    "abilities = [ability['ability']['name'] for ability in data['abilities']]\n",
    "print(abilities)"
   ]
  },
  {
   "cell_type": "markdown",
   "metadata": {},
   "source": [
    "#### Create a function to Pull in your own Pokemon's data "
   ]
  },
  {
   "cell_type": "code",
   "execution_count": 113,
   "metadata": {},
   "outputs": [
    {
     "name": "stdout",
     "output_type": "stream",
     "text": [
      "{'name': 'heracross', 'weight': 540, 'abilities': ['swarm', 'guts', 'moxie'], 'types': ['bug', 'fighting']}\n"
     ]
    }
   ],
   "source": [
    "def poke_api_call(pokemon):\n",
    "    req = requests.get(f\"https://pokeapi.co/api/v2/pokemon/{pokemon}\".lower())\n",
    "    if req.status_code == 200:\n",
    "        data = req.json()\n",
    "            \n",
    "        name = data['name']\n",
    "        weight = data['weight']\n",
    "        abilities = [ability['ability']['name']for ability in data ['abilities']]\n",
    "        types = [type_['type']['name']for type_ in data ['types']]\n",
    "        \n",
    "        poke = {\n",
    "            \"name\": name,\n",
    "            \"weight\": weight,\n",
    "            \"abilities\": abilities,\n",
    "            \"types\": types\n",
    "        }\n",
    "        return poke\n",
    "print(poke_api_call(\"Heracross\"))           "
   ]
  },
  {
   "cell_type": "markdown",
   "metadata": {},
   "source": [
    "Choose your pokemon"
   ]
  },
  {
   "cell_type": "code",
   "execution_count": 102,
   "metadata": {},
   "outputs": [
    {
     "name": "stdout",
     "output_type": "stream",
     "text": [
      "[10, 455, 239, 748, 231, 168]\n"
     ]
    }
   ],
   "source": [
    "from random import randint\n",
    "random_team = [randint(1,898) for i in range (6)]\n",
    "print(random_team)\n",
    "your_team = ['electabuzz','haunter','tyranitar','blaziken','marowak','dragonair']"
   ]
  },
  {
   "cell_type": "markdown",
   "metadata": {},
   "source": [
    "#### Use your function to create a dictionary of your favorite 6 pokemon"
   ]
  },
  {
   "cell_type": "code",
   "execution_count": 116,
   "metadata": {},
   "outputs": [
    {
     "name": "stdout",
     "output_type": "stream",
     "text": [
      "{'Caterpie': {'name': 'caterpie', 'weight': 29, 'abilities': ['shield-dust', 'run-away'], 'types': ['bug']}, 'Carnivine': {'name': 'carnivine', 'weight': 270, 'abilities': ['levitate'], 'types': ['grass']}, 'Elekid': {'name': 'elekid', 'weight': 235, 'abilities': ['static', 'vital-spirit'], 'types': ['electric']}, 'Toxapex': {'name': 'toxapex', 'weight': 145, 'abilities': ['merciless', 'limber', 'regenerator'], 'types': ['poison', 'water']}, 'Phanpy': {'name': 'phanpy', 'weight': 335, 'abilities': ['pickup', 'sand-veil'], 'types': ['ground']}, 'Ariados': {'name': 'ariados', 'weight': 335, 'abilities': ['swarm', 'insomnia', 'sniper'], 'types': ['bug', 'poison']}}\n"
     ]
    }
   ],
   "source": [
    "# Place all 6 of your pokemon on the object below, each pokemon should have at least as much info as Pikachu did.\n",
    "party = ['heracross', 'vaporeon', 'flygon', 'charizard', 'pidgeot', 'crobat']\n",
    "\n",
    "def create_team(arr):\n",
    "    my_team = {}\n",
    "    for pokemon in arr:\n",
    "        poke_stats = poke_api_call(pokemon)\n",
    "        my_team[poke_stats['name'].title()]= poke_stats\n",
    "                \n",
    "    return my_team\n",
    "                \n",
    "#print(create_team)\n",
    "print(create_team(random_team))           \n",
    "           "
   ]
  },
  {
   "cell_type": "markdown",
   "metadata": {},
   "source": [
    "## Lets create a class called 'Pokemon' and create our pokemon as instances"
   ]
  },
  {
   "cell_type": "code",
   "execution_count": 123,
   "metadata": {},
   "outputs": [],
   "source": [
    "class Pokemon():\n",
    "    def __init__(self, name):\n",
    "        self.name =name\n",
    "        self.types =[]\n",
    "        self.abilities =[]\n",
    "        self.weight = None\n",
    "        self.poke_api_call()\n",
    "        \n",
    "    def poke_api_call(self):\n",
    "        r = requests.get(f\"https://pokeapi.co/api/v2/pokemon/{self.name}\")\n",
    "        if r.status_code == 200:\n",
    "            pokemon = r.json()\n",
    "        else:\n",
    "            print(f\"Please check Pokemon name spelling and try again: {r.status_code}\")\n",
    "            \n",
    "        self.name = pokemon['name']\n",
    "        self.types = [type_['type']['name']for type_ in pokemon['types']]\n",
    "        self.abilities =[ability['ability']['name'] for ability in pokemon['abilities']]\n",
    "        self.weight = pokemon['weight']\n",
    "        print(f\"{self.name}'s data has been updated\")\n",
    "        \n",
    "    def __repr__(self):\n",
    "        return f\"you caught a {self.name}!\""
   ]
  },
  {
   "cell_type": "code",
   "execution_count": 124,
   "metadata": {},
   "outputs": [
    {
     "name": "stdout",
     "output_type": "stream",
     "text": [
      "charmander's data has been updated\n",
      "{'name': 'charmander', 'types': ['fire'], 'abilities': ['blaze', 'solar-power'], 'weight': 85}\n"
     ]
    }
   ],
   "source": [
    "charmander = Pokemon(\"charmander\")\n",
    "print(charmander.__dict__)"
   ]
  },
  {
   "cell_type": "markdown",
   "metadata": {},
   "source": [
    "### Let's Catch some Pokemon"
   ]
  },
  {
   "cell_type": "markdown",
   "metadata": {},
   "source": [
    "## Exercise 1:"
   ]
  },
  {
   "cell_type": "markdown",
   "metadata": {},
   "source": [
    "### Create a Method prints an image of your pokemon\n",
    "\n",
    "<p>HINT: You may need another attribute as well to store your image url within. </p>"
   ]
  },
  {
   "cell_type": "code",
   "execution_count": 130,
   "metadata": {},
   "outputs": [],
   "source": [
    "# Display an image in Jupyter notebook\n",
    "from IPython.display import Image\n",
    "\n",
    "#display(Image( 'https://i.redd.it/45n4mhusa8l41.jpg', width = 300))\n",
    "\n",
    "class Pokemon():\n",
    "    def __init__(self, name):\n",
    "        self.name =name\n",
    "        self.types =[]\n",
    "        self.abilities =[]\n",
    "        self.weight = None\n",
    "        self.image = None\n",
    "        self.poke_api_call()\n",
    "        \n",
    "        \n",
    "    def poke_api_call(self):\n",
    "        r = requests.get(f\"https://pokeapi.co/api/v2/pokemon/{self.name}\")\n",
    "        if r.status_code == 200:\n",
    "            pokemon = r.json()\n",
    "        else:\n",
    "            print(f\"Please check Pokemon name spelling and try again: {r.status_code}\")\n",
    "            \n",
    "        self.name = pokemon['name']\n",
    "        self.types = [type_['type']['name']for type_ in pokemon['types']]\n",
    "        self.abilities =[ability['ability']['name'] for ability in pokemon['abilities']]\n",
    "        self.weight = pokemon['weight']\n",
    "        self.image = pokemon['sprites']['other']['dream_world']['front_default']\n",
    "        print(f\"{self.name.title()}'s data has been updated\")\n",
    "    def display(self):\n",
    "        display(Image(url = self.image))\n",
    "    def __repr__(self):\n",
    "        return f\"you caught a {self.name}!\"\n"
   ]
  },
  {
   "cell_type": "code",
   "execution_count": 132,
   "metadata": {},
   "outputs": [
    {
     "name": "stdout",
     "output_type": "stream",
     "text": [
      "Charmander's data has been updated\n"
     ]
    },
    {
     "data": {
      "text/html": [
       "<img src=\"https://raw.githubusercontent.com/PokeAPI/sprites/master/sprites/pokemon/other/dream-world/4.svg\"/>"
      ],
      "text/plain": [
       "<IPython.core.display.Image object>"
      ]
     },
     "metadata": {},
     "output_type": "display_data"
    }
   ],
   "source": [
    "charmander = Pokemon(\"charmander\")\n",
    "charmander.display()"
   ]
  },
  {
   "cell_type": "code",
   "execution_count": null,
   "metadata": {},
   "outputs": [],
   "source": [
    "# recreate your pokemon class here\n",
    "\n",
    "        \n",
    "    "
   ]
  },
  {
   "cell_type": "markdown",
   "metadata": {},
   "source": [
    "## Exercise 2:"
   ]
  },
  {
   "cell_type": "markdown",
   "metadata": {},
   "source": [
    "### Create a Method that evolves your Pokemon\n",
    "If your pokemon can't evolve any further print a message that says \"\\<name of pokemon> can't evolve.\""
   ]
  },
  {
   "cell_type": "markdown",
   "metadata": {},
   "source": [
    "Now let's evolve a few"
   ]
  },
  {
   "cell_type": "code",
   "execution_count": null,
   "metadata": {
    "scrolled": true
   },
   "outputs": [],
   "source": [
    "import requests\n",
    "# recreate your pokemon class here\n",
    "# Display an image in Jupyter notebook\n",
    "from IPython.display import Image\n",
    "\n",
    "#display(Image( 'https://i.redd.it/45n4mhusa8l41.jpg', width = 300))\n",
    "\n",
    "class Pokemon():\n",
    "    def __init__(self, name):\n",
    "        self.name =name\n",
    "        self.types =[]\n",
    "        self.abilities =[]\n",
    "        self.weight = None\n",
    "        self.image = None\n",
    "        self.poke_api_call()\n",
    "        self.display()\n",
    "       \n",
    "        \n",
    "    def poke_api_call(self):\n",
    "        r = requests.get(f\"https://pokeapi.co/api/v2/pokemon/{self.name}\")\n",
    "        if r.status_code == 200:\n",
    "            pokemon = r.json()\n",
    "        else:\n",
    "            print(f\"Please check Pokemon name spelling and try again: {r.status_code}\")\n",
    "            \n",
    "        self.name = pokemon['name']\n",
    "        self.types = [type_['type']['name']for type_ in pokemon['types']]\n",
    "        self.abilities =[ability['ability']['name'] for ability in pokemon['abilities']]\n",
    "        self.weight = pokemon['weight']\n",
    "        self.image = pokemon['sprites']['other']['dream_world']['front_default']\n",
    "        print(f\"{self.name.title()}'s data has been updated\")\n",
    "    def display(self):\n",
    "        display(Image(url = self.image))\n",
    "    def __repr__(self):\n",
    "        return f\"you caught a {self.name}!\"\n"
   ]
  },
  {
   "cell_type": "code",
   "execution_count": 143,
   "metadata": {},
   "outputs": [
    {
     "name": "stdout",
     "output_type": "stream",
     "text": [
      "Charmander's data has been updated\n"
     ]
    },
    {
     "data": {
      "text/html": [
       "<img src=\"https://raw.githubusercontent.com/PokeAPI/sprites/master/sprites/pokemon/other/dream-world/4.svg\"/>"
      ],
      "text/plain": [
       "<IPython.core.display.Image object>"
      ]
     },
     "metadata": {},
     "output_type": "display_data"
    }
   ],
   "source": [
    "charmander = Pokemon(\"charmander\")\n",
    "charmander.display()"
   ]
  },
  {
   "cell_type": "code",
   "execution_count": 147,
   "metadata": {},
   "outputs": [],
   "source": [
    "from time import sleep\n",
    "## Evolver class should inherit pokemon class\n",
    "class Evolver(Pokemon):\n",
    "    def __init__(self, name):\n",
    "        super().__init__(name)\n",
    "        self.item = \"thunder-stone\"\n",
    "        \n",
    "    def evolve(self):\n",
    "        #Api call for pokemon species\n",
    "        r = requests.get(f\"https://pokeapi.co/api/v2/pokemon-species/{self.name}/\")\n",
    "        if r.status_code == 200:\n",
    "            pokemon_species = r.json()\n",
    "        else: \n",
    "            print(f\"Ran into an issue, please check your spelling and try again: {r.status_code}\")\n",
    "            return\n",
    "        \n",
    "        r = requests.get(pokemon_species['evolution_chain']['url'])\n",
    "        if r.status_code == 200:\n",
    "            ev_chain = r.json()\n",
    "            ev_chain = ev_chain['chain']\n",
    "        else:\n",
    "            print(f\"Ran into an issue, please check your pokemon's name and try again: {r.status_code}\")\n",
    "            return\n",
    "        base_name = ev_chain['species']['name']\n",
    "        if len(ev_chain['evolves_to']) > 1:\n",
    "            evo_list = ev_chain['evolves_to']\n",
    "            for i in range(len(evo_list)):\n",
    "                if evo_list[i]['evolution_details'][0]['item']:\n",
    "                    print(\"Great job\")\n",
    "                    if evo_list[i]['evolution_details'][0]['item']['name'] == self.item:\n",
    "                        print(evo_list[i]['evolution_details'][0]['item']['name'])\n",
    "\n",
    "                        evolution_name = evo_list[i]['species']['name']\n",
    "                           \n",
    "                    \n",
    "        else:\n",
    "            \n",
    "            evolution = ev_chain['evolves_to'][0]\n",
    "            evolution_name = evolution['species']['name']\n",
    "        \n",
    "        \n",
    "        #Evolution 1\n",
    "        if base_name == self.name:\n",
    "            pass\n",
    "        #Evolution 2\n",
    "        elif evolution_name == self.name:\n",
    "            evolution_name = evolution['evolves_to'][0]['species']['name']\n",
    "        #Attempting another evolution after the final\n",
    "        else:\n",
    "            print(f\"You cannot evolve your {self.name} and further...\")\n",
    "            return\n",
    "        \n",
    "        print(\"..........\")\n",
    "        sleep(1)\n",
    "        print(f\"Your {self.name} is evolving!?!?!?!?!?!\")\n",
    "        self.display()\n",
    "        sleep(1)\n",
    "        print(\"..........\")\n",
    "        print(f\"Congratulations!!! your {self.name} has evolved to.....\")\n",
    "        self.name = evolution_name\n",
    "        self.poke_api_call()\n",
    "        print(f\"{self.name.title()}!!!!!\")\n",
    "        self.display()"
   ]
  },
  {
   "cell_type": "code",
   "execution_count": 146,
   "metadata": {},
   "outputs": [
    {
     "ename": "AttributeError",
     "evalue": "'Pokemon' object has no attribute 'Evolver'",
     "output_type": "error",
     "traceback": [
      "\u001b[1;31m---------------------------------------------------------------------------\u001b[0m",
      "\u001b[1;31mAttributeError\u001b[0m                            Traceback (most recent call last)",
      "Cell \u001b[1;32mIn[146], line 1\u001b[0m\n\u001b[1;32m----> 1\u001b[0m \u001b[43mcharmander\u001b[49m\u001b[38;5;241;43m.\u001b[39;49m\u001b[43mEvolver\u001b[49m()\n",
      "\u001b[1;31mAttributeError\u001b[0m: 'Pokemon' object has no attribute 'Evolver'"
     ]
    }
   ],
   "source": [
    "charmander.Evolver()"
   ]
  },
  {
   "cell_type": "markdown",
   "metadata": {},
   "source": [
    "#  Final Exercise: <br> <br>Create a Move_Tutor Class that in herits from the Pokemon parent class.\n",
    "\n",
    "<p><b>This class should have a list attribute that holds pokemon moves which should be populated with an api call to the PokeApi moves section. Finally create a class method that teaches your pokemon up to 4 moves.</b></p> \n",
    "\n"
   ]
  },
  {
   "cell_type": "code",
   "execution_count": null,
   "metadata": {},
   "outputs": [],
   "source": [
    "class Move_Tutor(Pokemon):\n",
    "    def __init__(self, name):\n",
    "        self.move_list = [] \n",
    "        super().__init__(name)\n",
    "        self.item = \"thunder-stone\"\n",
    "        \n",
    "    def moves(self):\n",
    "        #Api call for pokemon moves\n",
    "        r = requests.get(f\"https://pokeapi.co/api/v2/pokemon/{self.name}/\")\n",
    "        if r.status_code == 200:\n",
    "            pokemon_moves = r.json()\n",
    "        else: \n",
    "            print(f\"Ran into an issue, please check your spelling and try again: {r.status_code}\")\n",
    "            return\n",
    "               \n",
    "    def teach_move(self):\n",
    "        pass"
   ]
  },
  {
   "cell_type": "code",
   "execution_count": null,
   "metadata": {},
   "outputs": [],
   "source": []
  },
  {
   "cell_type": "code",
   "execution_count": null,
   "metadata": {},
   "outputs": [],
   "source": [
    "pikachu.teach_move()\n"
   ]
  },
  {
   "cell_type": "code",
   "execution_count": null,
   "metadata": {},
   "outputs": [],
   "source": [
    "pikachu.show_moves()"
   ]
  }
 ],
 "metadata": {
  "kernelspec": {
   "display_name": "Python 3 (ipykernel)",
   "language": "python",
   "name": "python3"
  },
  "language_info": {
   "codemirror_mode": {
    "name": "ipython",
    "version": 3
   },
   "file_extension": ".py",
   "mimetype": "text/x-python",
   "name": "python",
   "nbconvert_exporter": "python",
   "pygments_lexer": "ipython3",
   "version": "3.11.3"
  }
 },
 "nbformat": 4,
 "nbformat_minor": 4
}
