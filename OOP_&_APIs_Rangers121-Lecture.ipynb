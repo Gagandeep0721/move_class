{
 "cells": [
  {
   "cell_type": "markdown",
   "metadata": {},
   "source": [
    "# Object Oriented Programming 2 - examples and APIs\n"
   ]
  },
  {
   "cell_type": "markdown",
   "metadata": {},
   "source": [
    "## Tasks Today:\n",
    "\n",
    "   \n",
    "\n",
    "1) <b>Shopping Cart Example</b> <br>\n",
    "2) <b>Requests and the pokemon API </b> <br>\n",
    " "
   ]
  },
  {
   "cell_type": "markdown",
   "metadata": {},
   "source": [
    "# Goal \n",
    "### build a shopping cart program with prices and quantities using objects and a dictionary"
   ]
  },
  {
   "cell_type": "code",
   "execution_count": 13,
   "metadata": {},
   "outputs": [],
   "source": [
    "from IPython.display import clear_output as clear\n",
    "# Create a class called Cart that retains items and has methods to add, remove, and show\n",
    "\n",
    "class Cart():\n",
    "    \n",
    "    def __init__(self):\n",
    "        self.items = {} #{item : quantity}\n",
    "        \n",
    "    #add to items to our cart\n",
    "    def add_item(self):\n",
    "        clear()\n",
    "        new_item = input(\"What would you like to add? \")\n",
    "        quantity = int(input(f\"How many {new_item}(s) do you want to add? (insert number)\"))\n",
    "        if new_item not in self.cart:\n",
    "            self.cart[new_item] = quantity\n",
    "        else:\n",
    "            self.cart[new_item] += quantity\n",
    "        print(f\"{quantity} {new_item}(s) has/have been added to your cart!\")\n",
    "        \n",
    "    #remove items from cart\n",
    "    def remove_item(self):\n",
    "        clear()\n",
    "        discard = input(\"What would you like to remove? \")\n",
    "        quantity = int(input(\"How many would you like to remove? \"))\n",
    "        try: \n",
    "            self.cart[discard] -= quantity\n",
    "            if self.cart[discard] <= 0:\n",
    "                del self.items[discard]\n",
    "            print(f\"{quantity} {discard}(s) has/have been removed!\")\n",
    "        except: \n",
    "            print(f\"{discard} was not in your cart!\")\n",
    "        self.show()\n",
    "        \n",
    "    def show(self):\n",
    "        print(\"Your cart has the following items: \")\n",
    "        for item, quantity in self.cart.items():\n",
    "            print(f\"{item} | quantity: {quantity}\")\n",
    "            \n",
    "            \n",
    "    # checkout items from your cart\n",
    "    def checkout(self):\n",
    "        clear()\n",
    "        if not self.cart:\n",
    "            print(\"Please buy something before checking out! Dont be cheap!\")\n",
    "        else:\n",
    "            print(\"Thanks for shopping at Aldi! Do you need any stamps, garbage stickers, or extreme value!\")\n",
    "            self.show()\n",
    "            \n",
    "# control flow - run the overall program\n",
    "class Main:    \n",
    "    def show_instructions(self):\n",
    "        print(\"\"\"\n",
    "            Welcome to Aldi, we're the best and have great peanut butter cups. Try our strawberry Belle Vue.\n",
    "            Options:\n",
    "            [1] Show Current Cart\n",
    "            [2] Add Item\n",
    "            [3] Remove\n",
    "            [4] Checkout\n",
    "            [5] Show Instructions            \n",
    "        \"\"\")\n",
    "        \n",
    "    def run(self):\n",
    "        Main.show_instructions()\n",
    "        my_cart = Cart()\n",
    "        \n",
    "        while True:\n",
    "            choice = input(\"What would you like to do? \")\n",
    "            if choice == '1':\n",
    "                if my_cart.cart == {}:\n",
    "                    print(\"Your cart is empty, lets get shoppin!\")\n",
    "                else:\n",
    "                    my_cart.show()\n",
    "                    \n",
    "            elif choice == \"2\":\n",
    "                my_cart.add_item()\n",
    "                \n",
    "            elif choice == \"3\":\n",
    "                if my_cart.cart == {}:\n",
    "                    print(\"Your cart is empty. Please add something before trying to remove! Please.\")\n",
    "                else:\n",
    "                    my_cart.remove_item()\n",
    "                    \n",
    "            elif choice == \"4\":\n",
    "                my_cart.checkout()\n",
    "                break\n",
    "                \n",
    "            elif choice == \"5\":\n",
    "                Main.show_instructions()\n",
    "            \n",
    "            else:\n",
    "                print(\"Invalid input, please try again!\")\n",
    "        \n",
    "        \n",
    "        \n",
    "            \n",
    "        \n",
    "\n"
   ]
  },
  {
   "cell_type": "code",
   "execution_count": 15,
   "metadata": {},
   "outputs": [
    {
     "data": {
      "text/plain": [
       "<bound method Main.run of <__main__.Main object at 0x000002B9E93144D0>>"
      ]
     },
     "execution_count": 15,
     "metadata": {},
     "output_type": "execute_result"
    }
   ],
   "source": [
    "run_class = Main()\n",
    "run_class.run\n",
    "\n"
   ]
  },
  {
   "cell_type": "code",
   "execution_count": 7,
   "metadata": {},
   "outputs": [],
   "source": [
    "# working with APis"
   ]
  },
  {
   "cell_type": "markdown",
   "metadata": {},
   "source": [
    "<p> What exactly is an API? <br> <br>\n",
    "API is the acronym for Application Programming Interface, which is a software intermediary that allows two applications to talk to each other. Each time you use an app like Facebook, send an instant message, or check the weather on your phone, you're using an API. </p>"
   ]
  },
  {
   "cell_type": "markdown",
   "metadata": {},
   "source": [
    "### The Poke API  allows you to retreive a pokemon's information from PokeAPI https://pokeapi.co/\n",
    "\n"
   ]
  },
  {
   "cell_type": "code",
   "execution_count": null,
   "metadata": {},
   "outputs": [],
   "source": [
    "pip install requests\n"
   ]
  },
  {
   "cell_type": "code",
   "execution_count": null,
   "metadata": {},
   "outputs": [],
   "source": [
    "# making an API call\n",
    "import requests\n",
    "\n",
    "r = requests.get('https://pokeapi.co/api/v2/pokemon/charmander')\n",
    "\n",
    "\n",
    "if r.status_code == 200:\n",
    "    data = r.json()\n",
    "print(data[\"abilities\"])\n",
    "\n",
    "print(data['base_experience'])\n"
   ]
  },
  {
   "cell_type": "code",
   "execution_count": null,
   "metadata": {},
   "outputs": [],
   "source": [
    "#based on the data dictionary: print the pokemon's height and weight\n",
    "#print(data)\n",
    "print(data['height'])\n",
    "print(data['weight'])"
   ]
  },
  {
   "cell_type": "markdown",
   "metadata": {},
   "source": [
    "### Display a Pokemon's name, weight, abilities, and types"
   ]
  },
  {
   "cell_type": "code",
   "execution_count": null,
   "metadata": {},
   "outputs": [],
   "source": [
    "# get the name\n",
    "name = data['name']\n",
    "print(name)"
   ]
  },
  {
   "cell_type": "code",
   "execution_count": null,
   "metadata": {},
   "outputs": [],
   "source": [
    "# get types\n",
    "types = [type_['type']['name'] for type_ in data['types']]\n",
    "\n",
    "print(types)\n",
    "\n"
   ]
  },
  {
   "cell_type": "code",
   "execution_count": null,
   "metadata": {},
   "outputs": [],
   "source": [
    "# get weight\n",
    "weight = data['weight']\n",
    "print(weight)"
   ]
  },
  {
   "cell_type": "code",
   "execution_count": null,
   "metadata": {},
   "outputs": [],
   "source": [
    "# get abilities\n",
    "abilities = [ability['ability']['name'] for ability in data['abilities']]\n",
    "print(abilities)"
   ]
  },
  {
   "cell_type": "code",
   "execution_count": null,
   "metadata": {},
   "outputs": [],
   "source": [
    "# Create a structure for a single pokemon\n",
    "charmander = {\n",
    "    'name' : name,\n",
    "    'abilities': abilities,\n",
    "    'weight': weight,\n",
    "    'types': types   \n",
    "}\n",
    "\n",
    "print(charmander)"
   ]
  },
  {
   "cell_type": "code",
   "execution_count": null,
   "metadata": {},
   "outputs": [],
   "source": [
    "import requests\n",
    "def poke_api_call(pokemon):\n",
    "    req = requests.get(f\"https://pokeapi.co/api/v2/pokemon/{pokemon.lower()}\")\n",
    "    if req.staus_code == 200:\n",
    "        data = req.json() \n",
    "        \n",
    "        name = data['name']\n",
    "        weight =data[\"weight\"]\n",
    "        abilities =[ability['ability']['name']for ability in data['abilities']]\n",
    "        types = [type_[\"type\"]['name']for type_ in data['type']]\n",
    "        \n",
    "        poke ={\n",
    "            \"name\": name,\n",
    "            \"weight\": weight,\n",
    "            \"abilities\": abilities,\n",
    "            \"types\": types\n",
    "        }\n",
    "        \n",
    "        return poke\n",
    "    print(poke_api_call(\"Heracross\"))"
   ]
  },
  {
   "cell_type": "markdown",
   "metadata": {},
   "source": [
    "#### Create a function to Pull in your own Pokemon's data "
   ]
  },
  {
   "cell_type": "code",
   "execution_count": 6,
   "metadata": {},
   "outputs": [
    {
     "data": {
      "text/plain": [
       "{'name': 'squirtle',\n",
       " 'types': ['water'],\n",
       " 'abilities': ['torrent', 'rain-dish'],\n",
       " 'weight': 90}"
      ]
     },
     "execution_count": 6,
     "metadata": {},
     "output_type": "execute_result"
    }
   ],
   "source": [
    "import requests\n",
    "def poke_api_call(pokemon):\n",
    "    req = requests.get(f\"https://pokeapi.co/api/v2/pokemon/{pokemon}\")\n",
    "    if req.status_code == 200:\n",
    "        data = req.json()\n",
    "        \n",
    "        name = data['name']\n",
    "        types = [type_['type']['name'] for type_ in data['types']]\n",
    "        abilities = [ability['ability']['name'] for ability in data['abilities']]\n",
    "        weight = data['weight']\n",
    "        \n",
    "        poke = {\n",
    "            \"name\": name,\n",
    "            \"types\": types,\n",
    "            \"abilities\": abilities,\n",
    "            'weight': weight\n",
    "        }\n",
    "        \n",
    "        return poke\n",
    "    \n",
    "poke_api_call('squirtle')\n"
   ]
  },
  {
   "cell_type": "markdown",
   "metadata": {},
   "source": [
    "Choose your pokemon"
   ]
  },
  {
   "cell_type": "code",
   "execution_count": 10,
   "metadata": {},
   "outputs": [],
   "source": [
    "from random import randint\n",
    "# Random number generated for each pokemon id\n",
    "random_team = [randint(1,898) for i in range(6)]\n",
    "\n",
    "your_team = ['electabuzz', 'haunter','tyranitar','blaziken','marowak','dragonair']\n"
   ]
  },
  {
   "cell_type": "markdown",
   "metadata": {},
   "source": [
    "#### Use your function to create a dictionary of your favorite 6 pokemon"
   ]
  },
  {
   "cell_type": "code",
   "execution_count": 7,
   "metadata": {},
   "outputs": [
    {
     "name": "stdout",
     "output_type": "stream",
     "text": [
      "{'Heracross': {'name': 'heracross', 'types': ['bug', 'fighting'], 'abilities': ['swarm', 'guts', 'moxie'], 'weight': 540}, 'Vaporeon': {'name': 'vaporeon', 'types': ['water'], 'abilities': ['water-absorb', 'hydration'], 'weight': 290}, 'Flygon': {'name': 'flygon', 'types': ['ground', 'dragon'], 'abilities': ['levitate'], 'weight': 820}, 'Charizard': {'name': 'charizard', 'types': ['fire', 'flying'], 'abilities': ['blaze', 'solar-power'], 'weight': 905}, 'Pidgeot': {'name': 'pidgeot', 'types': ['normal', 'flying'], 'abilities': ['keen-eye', 'tangled-feet', 'big-pecks'], 'weight': 395}, 'Crobat': {'name': 'crobat', 'types': ['poison', 'flying'], 'abilities': ['inner-focus', 'infiltrator'], 'weight': 750}}\n"
     ]
    }
   ],
   "source": [
    "party = ['heracross', 'vaporeon', 'flygon', 'charizard', 'pidgeot', 'crobat']\n",
    "def create_team(arr):\n",
    "    my_team ={}\n",
    "    for pokemon in arr:\n",
    "        poke_stats = poke_api_call(pokemon)\n",
    "        my_team[poke_stats['name'].title()] = poke_stats\n",
    "    \n",
    "    return my_team\n",
    "\n",
    "print(create_team(party))"
   ]
  },
  {
   "cell_type": "code",
   "execution_count": 8,
   "metadata": {},
   "outputs": [
    {
     "data": {
      "text/plain": [
       "{'Heracross': {'name': 'heracross',\n",
       "  'types': ['bug', 'fighting'],\n",
       "  'abilities': ['swarm', 'guts', 'moxie'],\n",
       "  'weight': 540},\n",
       " 'Vaporeon': {'name': 'vaporeon',\n",
       "  'types': ['water'],\n",
       "  'abilities': ['water-absorb', 'hydration'],\n",
       "  'weight': 290},\n",
       " 'Flygon': {'name': 'flygon',\n",
       "  'types': ['ground', 'dragon'],\n",
       "  'abilities': ['levitate'],\n",
       "  'weight': 820},\n",
       " 'Charizard': {'name': 'charizard',\n",
       "  'types': ['fire', 'flying'],\n",
       "  'abilities': ['blaze', 'solar-power'],\n",
       "  'weight': 905},\n",
       " 'Pidgeot': {'name': 'pidgeot',\n",
       "  'types': ['normal', 'flying'],\n",
       "  'abilities': ['keen-eye', 'tangled-feet', 'big-pecks'],\n",
       "  'weight': 395},\n",
       " 'Crobat': {'name': 'crobat',\n",
       "  'types': ['poison', 'flying'],\n",
       "  'abilities': ['inner-focus', 'infiltrator'],\n",
       "  'weight': 750}}"
      ]
     },
     "execution_count": 8,
     "metadata": {},
     "output_type": "execute_result"
    }
   ],
   "source": [
    "# Place all 6 of your pokemon on the object below, each pokemon should have at least as much info as Pikachu did.\n",
    "party = ['heracross', 'vaporeon', 'flygon', 'charizard', 'pidgeot', 'crobat']\n",
    "my_six_pokemon = {}\n",
    "for pokemon in party:\n",
    "    poke_stats = poke_api_call(pokemon)\n",
    "    my_six_pokemon[poke_stats['name'].title()] = poke_stats\n",
    "    \n",
    "my_six_pokemon"
   ]
  },
  {
   "cell_type": "markdown",
   "metadata": {},
   "source": [
    "## Lets create a class called 'Pokemon' and create our pokemon as instances"
   ]
  },
  {
   "cell_type": "code",
   "execution_count": 2,
   "metadata": {},
   "outputs": [
    {
     "name": "stdout",
     "output_type": "stream",
     "text": [
      "pikachu's data has been updated\n"
     ]
    }
   ],
   "source": [
    "\n",
    "class Pokemon:\n",
    "    def __init__(self, name):\n",
    "        self.name = name\n",
    "        self.types = []\n",
    "        self.abilities = []\n",
    "        self.weight = None\n",
    "        self.poke_api_call()\n",
    "        \n",
    "    def poke_api_call(self):\n",
    "        r = requests.get(f\"https://pokeapi.co/api/v2/pokemon/{self.name.lower()}\")\n",
    "        if r.status_code == 200:\n",
    "            pokemon = r.json()\n",
    "        else:\n",
    "            print(f\"Please check Pokemon name spelling and try again.\")\n",
    "            \n",
    "        self.name = pokemon[\"name\"]\n",
    "        self.types = [type_[\"type\"][\"name\"] for type_ in pokemon[\"types\"]]\n",
    "        self.abilities = [ability[\"ability\"][\"name\"] for ability in pokemon[\"abilities\"]]\n",
    "        self.weight = pokemon[\"weight\"]\n",
    "        print(f\"{self.name}'s data has been updated\")\n",
    "    \n",
    "    def __repr__(self):\n",
    "        return f\"You caught a {self.name}!\"\n",
    "        \n",
    "    def display_info(self):\n",
    "        print(f\"Name: {self.name}\")\n",
    "        print(f\"Type: {self.type}\")\n",
    "        print(f\"Level: {self.level}\")\n",
    "        \n",
    "        \n",
    "# # Creating instances of Pokémon\n",
    "# pikachu = Pokemon(\"Pikachu\", \"Electric\", 20)\n",
    "# charizard = Pokemon(\"Charizard\", \"Fire/Flying\", 50)\n",
    "# bulbasaur = Pokemon(\"Bulbasaur\", \"Grass/Poison\", 10)\n",
    "pikachu = Pokemon(\"Pikachu\")"
   ]
  },
  {
   "cell_type": "code",
   "execution_count": 3,
   "metadata": {},
   "outputs": [
    {
     "name": "stdout",
     "output_type": "stream",
     "text": [
      "charmander's data has been updated\n",
      "{'name': 'charmander', 'types': ['fire'], 'abilities': ['blaze', 'solar-power'], 'weight': 85}\n"
     ]
    }
   ],
   "source": [
    "charmander = Pokemon(\"charmander\")\n",
    "print(charmander.__dict__)"
   ]
  },
  {
   "cell_type": "code",
   "execution_count": 1,
   "metadata": {},
   "outputs": [],
   "source": [
    "import requests\n",
    "class Pokemon():\n",
    "    def __init__(self, name):\n",
    "        self.name = name\n",
    "        self.types = []\n",
    "        self.abilities = []\n",
    "        self.weight = None\n",
    "        self.poke_api_call()\n",
    "        \n",
    "    def poke_api_call(self):\n",
    "        r = requests.get(f\"https://pokeapi.co/api/v2/pokemon/{self.name.lower()}\")\n",
    "        if r.status_code == 200:\n",
    "            pokemon = r.json()\n",
    "        else:\n",
    "            print(f\"Please check pokemon name spelling and try again: {r.status_code}\")\n",
    "            return\n",
    "        self.name = pokemon['name']\n",
    "        self.types = [type_['type']['name'] for type_ in pokemon['types']]\n",
    "        self.abilities = [ability['ability']['name'] for ability in pokemon['abilities']]\n",
    "        self.weight = pokemon['weight']\n",
    "        print(f\"{self.name}'s data has been updated!\")\n",
    "        \n",
    "    def __repr__(self):\n",
    "        return f\"You caught a {self.name}!\"\n",
    "            \n",
    "        "
   ]
  },
  {
   "cell_type": "markdown",
   "metadata": {},
   "source": [
    "### Let's Catch some Pokemon"
   ]
  },
  {
   "cell_type": "code",
   "execution_count": 4,
   "metadata": {},
   "outputs": [
    {
     "name": "stdout",
     "output_type": "stream",
     "text": [
      "charmander's data has been updated\n",
      "{'name': 'charmander', 'types': ['fire'], 'abilities': ['blaze', 'solar-power'], 'weight': 85}\n",
      "You caught a charmander!\n",
      "85\n"
     ]
    }
   ],
   "source": [
    "charmander = Pokemon('charmander')\n",
    "print(charmander.__dict__)\n",
    "print(charmander)\n",
    "print(charmander.weight)"
   ]
  },
  {
   "cell_type": "code",
   "execution_count": 5,
   "metadata": {},
   "outputs": [
    {
     "name": "stdout",
     "output_type": "stream",
     "text": [
      "heracross's data has been updated\n",
      "vaporeon's data has been updated\n",
      "flygon's data has been updated\n",
      "charizard's data has been updated\n",
      "pidgeot's data has been updated\n",
      "crobat's data has been updated\n",
      "{'Heracross': {'name': 'heracross', 'types': ['bug', 'fighting'], 'abilities': ['swarm', 'guts', 'moxie'], 'weight': 540}, 'Vaporeon': {'name': 'vaporeon', 'types': ['water'], 'abilities': ['water-absorb', 'hydration'], 'weight': 290}, 'Flygon': {'name': 'flygon', 'types': ['ground', 'dragon'], 'abilities': ['levitate'], 'weight': 820}, 'Charizard': {'name': 'charizard', 'types': ['fire', 'flying'], 'abilities': ['blaze', 'solar-power'], 'weight': 905}, 'Pidgeot': {'name': 'pidgeot', 'types': ['normal', 'flying'], 'abilities': ['keen-eye', 'tangled-feet', 'big-pecks'], 'weight': 395}, 'Crobat': {'name': 'crobat', 'types': ['poison', 'flying'], 'abilities': ['inner-focus', 'infiltrator'], 'weight': 750}}\n"
     ]
    }
   ],
   "source": [
    "party = ['heracross', 'vaporeon', 'flygon', 'charizard', 'pidgeot', 'crobat']\n",
    "pokedex = {}\n",
    "for name in party:\n",
    "    new = Pokemon(name)\n",
    "    pokedex[new.name.title()] = new.__dict__\n",
    "print(pokedex)"
   ]
  },
  {
   "cell_type": "markdown",
   "metadata": {},
   "source": [
    "## Exercise 1:"
   ]
  },
  {
   "cell_type": "markdown",
   "metadata": {},
   "source": [
    "### Create a Method prints an image of your pokemon\n",
    "\n",
    "<p>HINT: You may need another attribute as well to store your image url within. </p>"
   ]
  },
  {
   "cell_type": "code",
   "execution_count": 6,
   "metadata": {},
   "outputs": [],
   "source": [
    "# Display an image in Jupyter notebook\n",
    "from IPython.display import Image\n",
    "\n",
    "import requests\n",
    "\n",
    "class Pokemon:\n",
    "    def __init__(self, name):\n",
    "        self.name = name\n",
    "        self.types = []\n",
    "        self.abilities = []\n",
    "        self.weight = None\n",
    "        self.image = None\n",
    "        self.poke_api_call()\n",
    "        \n",
    "    def poke_api_call(self):\n",
    "        r = requests.get(f\"https://pokeapi.co/api/v2/pokemon/{self.name.lower()}\")\n",
    "        if r.status_code == 200:\n",
    "            pokemon = r.json()\n",
    "        else:\n",
    "            print(f\"Please check Pokemon name spelling and try again.\")\n",
    "            \n",
    "        self.name = pokemon[\"name\"]\n",
    "        self.types = [type_[\"type\"][\"name\"] for type_ in pokemon[\"types\"]]\n",
    "        self.abilities = [ability[\"ability\"][\"name\"] for ability in pokemon[\"abilities\"]]\n",
    "        self.weight = pokemon[\"weight\"]\n",
    "        self.image = pokemon[\"sprites\"][\"other\"][\"dream_world\"][\"front_default\"]\n",
    "        print(f\"{self.name}'s data has been updated\")\n",
    "        \n",
    "    def display(self):\n",
    "        display(Image(url = self.image))\n",
    "    \n",
    "    def __repr__(self):\n",
    "        return f\"You caught a {self.name}!\""
   ]
  },
  {
   "cell_type": "code",
   "execution_count": 7,
   "metadata": {},
   "outputs": [
    {
     "name": "stdout",
     "output_type": "stream",
     "text": [
      "charmander's data has been updated\n"
     ]
    },
    {
     "data": {
      "text/html": [
       "<img src=\"https://raw.githubusercontent.com/PokeAPI/sprites/master/sprites/pokemon/other/dream-world/4.svg\"/>"
      ],
      "text/plain": [
       "<IPython.core.display.Image object>"
      ]
     },
     "metadata": {},
     "output_type": "display_data"
    },
    {
     "name": "stdout",
     "output_type": "stream",
     "text": [
      "eevee's data has been updated\n"
     ]
    },
    {
     "data": {
      "text/html": [
       "<img src=\"https://raw.githubusercontent.com/PokeAPI/sprites/master/sprites/pokemon/other/dream-world/133.svg\"/>"
      ],
      "text/plain": [
       "<IPython.core.display.Image object>"
      ]
     },
     "metadata": {},
     "output_type": "display_data"
    }
   ],
   "source": [
    "charmander = Pokemon(\"charmander\")\n",
    "charmander.display()\n",
    "\n",
    "eevee = Pokemon(\"eevee\")\n",
    "eevee.display()"
   ]
  },
  {
   "cell_type": "code",
   "execution_count": null,
   "metadata": {},
   "outputs": [],
   "source": [
    "# Calling our new method\n",
    "heracross.display()"
   ]
  },
  {
   "cell_type": "markdown",
   "metadata": {},
   "source": [
    "## Exercise 2:"
   ]
  },
  {
   "cell_type": "markdown",
   "metadata": {},
   "source": [
    "### Create a Method that evolves your Pokemon\n",
    "If your pokemon can't evolve any further print a message that says \"\\<name of pokemon> can't evolve.\""
   ]
  },
  {
   "cell_type": "code",
   "execution_count": 8,
   "metadata": {},
   "outputs": [],
   "source": [
    "import requests\n",
    "from time import sleep\n",
    "\n",
    "class Evolver(Pokemon):\n",
    "    def __init__(self, name):\n",
    "        super().__init__(name)\n",
    "        \n",
    "    def evolve(self):\n",
    "        #Api call for pokemon species\n",
    "        r = requests.get(f\"https://pokeapi.co/api/v2/pokemon-species/{self.name}/\")\n",
    "        if r.status_code == 200:\n",
    "            pokemon_species = r.json()\n",
    "        else: \n",
    "            print(f\"Ran into an issue, please check your spelling and try again: {r.status_code}\")\n",
    "            return\n",
    "        \n",
    "        r = requests.get(pokemon_species['evolution_chain']['url'])\n",
    "        if r.status_code == 200:\n",
    "            ev_chain = r.json()\n",
    "            ev_chain = ev_chain['chain']\n",
    "        else:\n",
    "            print(f\"Ran into an issue, please check your pokemon's name and try again: {r.status_code}\")\n",
    "            return\n",
    "        \n",
    "        base_name = ev_chain['species']['name']\n",
    "        evolution = ev_chain['evolves_to'][0]\n",
    "        evolution_name = evolution['species']['name']\n",
    "        \n",
    "        \n",
    "        #Evolution 1\n",
    "        if base_name == self.name:\n",
    "            pass\n",
    "        #Evolution 2\n",
    "        elif evolution_name == self.name:\n",
    "            evolution_name = evolution['evolves_to'][0]['species']['name']\n",
    "        #Attempting another evolution after the final\n",
    "        else:\n",
    "            print(f\"You cannot evolve your {self.name} and further...\")\n",
    "            return\n",
    "        \n",
    "        print(\"..........\")\n",
    "        sleep(1)\n",
    "        print(f\"Your {self.name} is evolving!?!?!?!?!?!\")\n",
    "        self.display()\n",
    "        sleep(1)\n",
    "        print(\"..........\")\n",
    "        print(f\"Congratulations!!! your {self.name} has evolved to.....\")\n",
    "        self.name = evolution_name\n",
    "        self.poke_api_call()\n",
    "        print(f\"{self.name.title()}!!!!!\")\n",
    "        self.display()\n",
    "        "
   ]
  },
  {
   "cell_type": "code",
   "execution_count": 9,
   "metadata": {},
   "outputs": [
    {
     "name": "stdout",
     "output_type": "stream",
     "text": [
      "charmander's data has been updated\n",
      "..........\n",
      "Your charmander is evolving!?!?!?!?!?!\n"
     ]
    },
    {
     "data": {
      "text/html": [
       "<img src=\"https://raw.githubusercontent.com/PokeAPI/sprites/master/sprites/pokemon/other/dream-world/4.svg\"/>"
      ],
      "text/plain": [
       "<IPython.core.display.Image object>"
      ]
     },
     "metadata": {},
     "output_type": "display_data"
    },
    {
     "name": "stdout",
     "output_type": "stream",
     "text": [
      "..........\n",
      "Congratulations!!! your charmander has evolved to.....\n",
      "charmeleon's data has been updated\n",
      "Charmeleon!!!!!\n"
     ]
    },
    {
     "data": {
      "text/html": [
       "<img src=\"https://raw.githubusercontent.com/PokeAPI/sprites/master/sprites/pokemon/other/dream-world/5.svg\"/>"
      ],
      "text/plain": [
       "<IPython.core.display.Image object>"
      ]
     },
     "metadata": {},
     "output_type": "display_data"
    }
   ],
   "source": [
    "evolver = Evolver(\"charmander\")\n",
    "evolver.evolve()"
   ]
  },
  {
   "cell_type": "markdown",
   "metadata": {},
   "source": [
    "Now let's evolve a few"
   ]
  },
  {
   "cell_type": "code",
   "execution_count": null,
   "metadata": {},
   "outputs": [],
   "source": [
    "charmander = Evolver('charmander')\n"
   ]
  },
  {
   "cell_type": "code",
   "execution_count": null,
   "metadata": {},
   "outputs": [],
   "source": [
    "print(charmander.name)\n",
    "print(charmander.__dict__)"
   ]
  },
  {
   "cell_type": "code",
   "execution_count": null,
   "metadata": {},
   "outputs": [],
   "source": [
    "charmander.display()"
   ]
  },
  {
   "cell_type": "code",
   "execution_count": null,
   "metadata": {},
   "outputs": [],
   "source": [
    "charmander.evolve()"
   ]
  },
  {
   "cell_type": "code",
   "execution_count": null,
   "metadata": {},
   "outputs": [],
   "source": [
    "# charmander = Pokemon('charmander')\n",
    "# charmander.evolve()"
   ]
  },
  {
   "cell_type": "code",
   "execution_count": 25,
   "metadata": {},
   "outputs": [],
   "source": [
    "from time import sleep\n",
    "## Evolver class should inherit pokemon class\n",
    "class Evolver(Pokemon):\n",
    "    def __init__(self, name):\n",
    "        super().__init__(name)\n",
    "        self.item = \"thunder-stone\"\n",
    "        \n",
    "    def evolve(self):\n",
    "        #Api call for pokemon species\n",
    "        r = requests.get(f\"https://pokeapi.co/api/v2/pokemon-species/{self.name}/\")\n",
    "        if r.status_code == 200:\n",
    "            pokemon_species = r.json()\n",
    "        else: \n",
    "            print(f\"Ran into an issue, please check your spelling and try again: {r.status_code}\")\n",
    "            return\n",
    "        \n",
    "        r = requests.get(pokemon_species['evolution_chain']['url'])\n",
    "        if r.status_code == 200:\n",
    "            ev_chain = r.json()\n",
    "            ev_chain = ev_chain['chain']\n",
    "        else:\n",
    "            print(f\"Ran into an issue, please check your pokemon's name and try again: {r.status_code}\")\n",
    "            return\n",
    "        base_name = ev_chain['species']['name']\n",
    "        if len(ev_chain['evolves_to']) > 1:\n",
    "            evo_list = ev_chain['evolves_to']\n",
    "            for i in range(len(evo_list)):\n",
    "                if evo_list[i]['evolution_details'][0]['item']:\n",
    "                    print(\"Great job\")\n",
    "                    if evo_list[i]['evolution_details'][0]['item']['name'] == self.item:\n",
    "                        print(evo_list[i]['evolution_details'][0]['item']['name'])\n",
    "\n",
    "                        evolution_name = evo_list[i]['species']['name']\n",
    "                           \n",
    "                    \n",
    "        else:\n",
    "            \n",
    "            evolution = ev_chain['evolves_to'][0]\n",
    "            evolution_name = evolution['species']['name']\n",
    "        \n",
    "        \n",
    "        #Evolution 1\n",
    "        if base_name == self.name:\n",
    "            pass\n",
    "        #Evolution 2\n",
    "        elif evolution_name == self.name:\n",
    "            evolution_name = evolution['evolves_to'][0]['species']['name']\n",
    "        #Attempting another evolution after the final\n",
    "        else:\n",
    "            print(f\"You cannot evolve your {self.name} and further...\")\n",
    "            return\n",
    "        \n",
    "        print(\"..........\")\n",
    "        sleep(1)\n",
    "        print(f\"Your {self.name} is evolving!?!?!?!?!?!\")\n",
    "        self.display()\n",
    "        sleep(1)\n",
    "        print(\"..........\")\n",
    "        print(f\"Congratulations!!! your {self.name} has evolved to.....\")\n",
    "        self.name = evolution_name\n",
    "        self.poke_api_call()\n",
    "        print(f\"{self.name.title()}!!!!!\")\n",
    "        self.display()"
   ]
  },
  {
   "cell_type": "code",
   "execution_count": 26,
   "metadata": {},
   "outputs": [
    {
     "ename": "NameError",
     "evalue": "name 'charmander' is not defined",
     "output_type": "error",
     "traceback": [
      "\u001b[1;31m---------------------------------------------------------------------------\u001b[0m",
      "\u001b[1;31mNameError\u001b[0m                                 Traceback (most recent call last)",
      "Cell \u001b[1;32mIn[26], line 1\u001b[0m\n\u001b[1;32m----> 1\u001b[0m \u001b[43mcharmander\u001b[49m\u001b[38;5;241m.\u001b[39mevolve()\n",
      "\u001b[1;31mNameError\u001b[0m: name 'charmander' is not defined"
     ]
    }
   ],
   "source": [
    "charmander.evolve()"
   ]
  },
  {
   "cell_type": "markdown",
   "metadata": {},
   "source": [
    "#  Final Exercise: <br> <br>Create a Move_Tutor Class that in herits from the Pokemon parent class.\n",
    "\n",
    "<p><b>This class should have a list attribute that holds pokemon moves which should be populated with an api call to the PokeApi moves section. Finally create a class method that teaches your pokemon up to 4 moves.</b></p> \n",
    "\n"
   ]
  },
  {
   "cell_type": "code",
   "execution_count": 10,
   "metadata": {},
   "outputs": [],
   "source": [
    "import random\n",
    "import requests\n",
    "from time import sleep\n",
    "from IPython.display import Image\n",
    "\n",
    "class Move_Tutor(Pokemon):      \n",
    "    def __init__(self, name):\n",
    "    \n",
    "        super().__init__(name)\n",
    "        self.moves = []\n",
    "\n",
    "    def get_moves(self):\n",
    "       \n",
    "        url = f\"https://pokeapi.co/api/v2/pokemon/{self.name}/\"\n",
    "        response = requests.get(url)\n",
    "\n",
    "        if response.status_code == 200:\n",
    "            data = response.json()\n",
    "            moves = data['moves']\n",
    "            self.moves = [move['move']['name'] for move in moves]\n",
    "        else:\n",
    "            print(f\"Error retrieving moves for {self.name}: {response.status_code}\")\n",
    "    \n",
    "    def teach_move(self, move1, move2, move3, move4):\n",
    "        \n",
    "        moves_to_teach = [move1, move2, move3, move4]\n",
    "        valid_moves = []\n",
    "\n",
    "        for move in moves_to_teach:\n",
    "            if move in self.moves:\n",
    "                valid_moves.append(move)\n",
    "            else:\n",
    "                print(f\"{move} is not a valid move for {self.name}. Skipping...\")\n",
    "\n",
    "        if len(valid_moves) > 0:\n",
    "            \n",
    "            print(f\"Teaching moves to {self.name}:\")\n",
    "            for move in valid_moves:\n",
    "                print(f\"- {self.name} learned {move}!\")\n",
    "                # Perform the logic to teach the move to the Pokemon here\n",
    "\n",
    "    def display(self):\n",
    "        \n",
    "        url = f\"https://pokeapi.co/api/v2/pokemon/{self.name}/\"\n",
    "        response = requests.get(url)\n",
    "\n",
    "        if response.status_code == 200:\n",
    "            data = response.json()\n",
    "            sprite_url = data['sprites']['front_default']\n",
    "            Image(url=sprite_url)\n",
    "        else:\n",
    "            print(f\"Error retrieving image for {self.name}: {response.status_code}\")\n",
    "            \n",
    "    def show_moves(self):\n",
    "        \n",
    "        if self.moves:\n",
    "            print(f\"Moveset for {self.name}:\")\n",
    "            for move in self.moves:\n",
    "                print(f\"- {move}\")\n",
    "        else:\n",
    "            print(f\"No moves found for {self.name}.\")\n",
    "            \n",
    "    def get_move_info(self, move_name):\n",
    "        \n",
    "        url = f\"https://pokeapi.co/api/v2/move/{move_name}/\"\n",
    "        response = requests.get(url)\n",
    "\n",
    "        if response.status_code == 200:\n",
    "            move_data = response.json()\n",
    "            move_name = move_data['name']\n",
    "            move_power = move_data['power']\n",
    "            move_type = move_data['type']['name']\n",
    "            print(f\"Move Name: {move_name}\")\n",
    "            print(f\"Type: {move_type}\")\n",
    "            print(f\"Power: {move_power}\")\n",
    "            \n",
    "        else:\n",
    "            print(f\"Error retrieving move information: {response.status_code}\")"
   ]
  },
  {
   "cell_type": "code",
   "execution_count": 12,
   "metadata": {},
   "outputs": [
    {
     "name": "stdout",
     "output_type": "stream",
     "text": [
      "charmander's data has been updated\n",
      "fire blast is not a valid move for charmander. Skipping...\n",
      "tail whip is not a valid move for charmander. Skipping...\n",
      "Teaching moves to charmander:\n",
      "- charmander learned flamethrower!\n",
      "- charmander learned ember!\n",
      "Moveset for charmander:\n",
      "- mega-punch\n",
      "- fire-punch\n",
      "- thunder-punch\n",
      "- scratch\n",
      "- swords-dance\n",
      "- cut\n",
      "- wing-attack\n",
      "- mega-kick\n",
      "- headbutt\n",
      "- body-slam\n",
      "- take-down\n",
      "- double-edge\n",
      "- leer\n",
      "- bite\n",
      "- growl\n",
      "- ember\n",
      "- flamethrower\n",
      "- submission\n",
      "- counter\n",
      "- seismic-toss\n",
      "- strength\n",
      "- dragon-rage\n",
      "- fire-spin\n",
      "- dig\n",
      "- toxic\n",
      "- rage\n",
      "- mimic\n",
      "- double-team\n",
      "- smokescreen\n",
      "- defense-curl\n",
      "- reflect\n",
      "- bide\n",
      "- fire-blast\n",
      "- swift\n",
      "- skull-bash\n",
      "- fury-swipes\n",
      "- rest\n",
      "- rock-slide\n",
      "- slash\n",
      "- substitute\n",
      "- snore\n",
      "- curse\n",
      "- protect\n",
      "- scary-face\n",
      "- belly-drum\n",
      "- mud-slap\n",
      "- outrage\n",
      "- endure\n",
      "- false-swipe\n",
      "- swagger\n",
      "- fury-cutter\n",
      "- attract\n",
      "- sleep-talk\n",
      "- return\n",
      "- frustration\n",
      "- dynamic-punch\n",
      "- dragon-breath\n",
      "- iron-tail\n",
      "- metal-claw\n",
      "- hidden-power\n",
      "- sunny-day\n",
      "- crunch\n",
      "- ancient-power\n",
      "- rock-smash\n",
      "- beat-up\n",
      "- heat-wave\n",
      "- will-o-wisp\n",
      "- facade\n",
      "- focus-punch\n",
      "- helping-hand\n",
      "- brick-break\n",
      "- secret-power\n",
      "- weather-ball\n",
      "- air-cutter\n",
      "- overheat\n",
      "- rock-tomb\n",
      "- aerial-ace\n",
      "- dragon-claw\n",
      "- dragon-dance\n",
      "- natural-gift\n",
      "- fling\n",
      "- flare-blitz\n",
      "- dragon-pulse\n",
      "- dragon-rush\n",
      "- focus-blast\n",
      "- shadow-claw\n",
      "- fire-fang\n",
      "- captivate\n",
      "- hone-claws\n",
      "- flame-burst\n",
      "- flame-charge\n",
      "- round\n",
      "- echoed-voice\n",
      "- incinerate\n",
      "- acrobatics\n",
      "- inferno\n",
      "- fire-pledge\n",
      "- dragon-tail\n",
      "- work-up\n",
      "- confide\n",
      "- power-up-punch\n",
      "- tera-blast\n",
      "Error retrieving move information: 404\n"
     ]
    }
   ],
   "source": [
    "moves = Move_Tutor(\"charmander\")\n",
    "moves.get_moves()\n",
    "moves.teach_move(\"flamethrower\", \"fire blast\", \"ember\", \"tail whip\")\n",
    "moves.show_moves()\n",
    "moves.get_move_info(\"tail whip\")"
   ]
  },
  {
   "cell_type": "code",
   "execution_count": null,
   "metadata": {},
   "outputs": [],
   "source": []
  }
 ],
 "metadata": {
  "kernelspec": {
   "display_name": "Python 3 (ipykernel)",
   "language": "python",
   "name": "python3"
  },
  "language_info": {
   "codemirror_mode": {
    "name": "ipython",
    "version": 3
   },
   "file_extension": ".py",
   "mimetype": "text/x-python",
   "name": "python",
   "nbconvert_exporter": "python",
   "pygments_lexer": "ipython3",
   "version": "3.11.3"
  }
 },
 "nbformat": 4,
 "nbformat_minor": 4
}
